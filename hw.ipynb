{
  "nbformat": 4,
  "nbformat_minor": 0,
  "metadata": {
    "colab": {
      "provenance": []
    },
    "kernelspec": {
      "name": "python3",
      "display_name": "Python 3"
    },
    "language_info": {
      "name": "python"
    }
  },
  "cells": [
    {
      "cell_type": "code",
      "execution_count": 1,
      "metadata": {
        "colab": {
          "base_uri": "https://localhost:8080/"
        },
        "id": "raGibSdVsdlP",
        "outputId": "432ea1ac-a835-4895-c767-1564376f3363"
      },
      "outputs": [
        {
          "output_type": "stream",
          "name": "stdout",
          "text": [
            "Enter the first number: 5\n",
            "Enter the second number: 5\n",
            "Enter the third number: 5\n",
            "Addition: 15.0\n",
            "Average: 5.0\n"
          ]
        }
      ],
      "source": [
        "# Input three float numbers\n",
        "num1 = float(input(\"Enter the first number: \"))\n",
        "num2 = float(input(\"Enter the second number: \"))\n",
        "num3 = float(input(\"Enter the third number: \"))\n",
        "\n",
        "# Calculate addition and average\n",
        "addition = num1 + num2 + num3\n",
        "average = addition / 3\n",
        "\n",
        "# Print results\n",
        "print(f\"Addition: {addition}\")\n",
        "print(f\"Average: {average}\")"
      ]
    },
    {
      "cell_type": "code",
      "source": [
        "import math\n",
        "\n",
        "radius = 6\n",
        "volume = (4/3) * math.pi * (radius ** 3)\n",
        "\n",
        "print(f\"Volume of the sphere: {volume:.2f} cubic cm\")\n"
      ],
      "metadata": {
        "colab": {
          "base_uri": "https://localhost:8080/"
        },
        "id": "Ynskd8xnspzH",
        "outputId": "bfc17bc4-dab5-4e01-cc08-c4bd1263982d"
      },
      "execution_count": 2,
      "outputs": [
        {
          "output_type": "stream",
          "name": "stdout",
          "text": [
            "Volume of the sphere: 904.78 cubic cm\n"
          ]
        }
      ]
    },
    {
      "cell_type": "code",
      "source": [
        "import math\n",
        "\n",
        "radius = float(input(\"Enter the radius of the circle: \"))\n",
        "area = math.pi * (radius ** 2)\n",
        "\n",
        "print(f\"Area of the circle: {area:.2f} square units\")\n"
      ],
      "metadata": {
        "colab": {
          "base_uri": "https://localhost:8080/"
        },
        "id": "69M2rViDsz09",
        "outputId": "1cfff0b2-f780-4b81-8e69-1df2951dfc3d"
      },
      "execution_count": 3,
      "outputs": [
        {
          "output_type": "stream",
          "name": "stdout",
          "text": [
            "Enter the radius of the circle: 4\n",
            "Area of the circle: 50.27 square units\n"
          ]
        }
      ]
    },
    {
      "cell_type": "code",
      "source": [
        "# Input principal, rate, and time\n",
        "principal = float(input(\"Enter principal amount: \"))\n",
        "rate = float(input(\"Enter rate of interest: \"))\n",
        "time = float(input(\"Enter time in years: \"))\n",
        "\n",
        "# Calculate simple interest\n",
        "interest = (principal * rate * time) / 100\n",
        "\n",
        "print(f\"Simple Interest: {interest:.2f}\")\n"
      ],
      "metadata": {
        "colab": {
          "base_uri": "https://localhost:8080/"
        },
        "id": "lLbIG5MLs7B2",
        "outputId": "03b2d7f7-57d7-45ea-8d22-6594d2092a82"
      },
      "execution_count": 4,
      "outputs": [
        {
          "output_type": "stream",
          "name": "stdout",
          "text": [
            "Enter principal amount: 124\n",
            "Enter rate of interest: 5\n",
            "Enter time in years: 4\n",
            "Simple Interest: 24.80\n"
          ]
        }
      ]
    },
    {
      "cell_type": "code",
      "source": [
        "# Input two numbers\n",
        "a = float(input(\"Enter the first number: \"))\n",
        "b = float(input(\"Enter the second number: \"))\n",
        "\n",
        "# Swap values\n",
        "a, b = b, a\n",
        "\n",
        "print(f\"Swapped values: a = {a}, b = {b}\")\n"
      ],
      "metadata": {
        "colab": {
          "base_uri": "https://localhost:8080/"
        },
        "id": "Lfkj0ytktFR-",
        "outputId": "a2329d71-5d5b-42dd-f698-24c6a6558526"
      },
      "execution_count": 5,
      "outputs": [
        {
          "output_type": "stream",
          "name": "stdout",
          "text": [
            "Enter the first number: 45\n",
            "Enter the second number: 59\n",
            "Swapped values: a = 59.0, b = 45.0\n"
          ]
        }
      ]
    },
    {
      "cell_type": "code",
      "source": [
        "# Input temperature in Celsius\n",
        "celsius = float(input(\"Enter temperature in Celsius: \"))\n",
        "\n",
        "# Convert to Fahrenheit\n",
        "fahrenheit = (celsius * 9/5) + 32\n",
        "\n",
        "print(f\"Temperature in Fahrenheit: {fahrenheit:.2f}\")\n"
      ],
      "metadata": {
        "colab": {
          "base_uri": "https://localhost:8080/"
        },
        "id": "FUNU7VL0tQD-",
        "outputId": "50995765-61cb-4e69-f28f-d77e23f17687"
      },
      "execution_count": 6,
      "outputs": [
        {
          "output_type": "stream",
          "name": "stdout",
          "text": [
            "Enter temperature in Celsius: 56\n",
            "Temperature in Fahrenheit: 132.80\n"
          ]
        }
      ]
    },
    {
      "cell_type": "code",
      "source": [
        "days = int(input(\"Enter number of days: \"))\n",
        "\n",
        "years = days // 365\n",
        "days %= 365\n",
        "months = days // 30\n",
        "days %= 30\n",
        "weeks = days // 7\n",
        "days %= 7\n",
        "\n",
        "print(f\"{years} years, {months} months, {weeks} weeks, {days} days\")\n"
      ],
      "metadata": {
        "colab": {
          "base_uri": "https://localhost:8080/"
        },
        "id": "cLx6jcPAtWHW",
        "outputId": "979aa00f-39ba-429f-f3ef-77462069ed7c"
      },
      "execution_count": 7,
      "outputs": [
        {
          "output_type": "stream",
          "name": "stdout",
          "text": [
            "Enter number of days: 12\n",
            "0 years, 0 months, 1 weeks, 5 days\n"
          ]
        }
      ]
    },
    {
      "cell_type": "code",
      "source": [
        "G = 6.67430e-11  # Gravitational constant in m^3 kg^-1 s^-2\n",
        "\n",
        "m1 = float(input(\"Enter mass of first object (kg): \"))\n",
        "m2 = float(input(\"Enter mass of second object (kg): \"))\n",
        "d = float(input(\"Enter distance between objects (m): \"))\n",
        "\n",
        "force = G * (m1 * m2) / (d ** 2)\n",
        "\n",
        "print(f\"Gravitational force: {force:.2e} N\")\n"
      ],
      "metadata": {
        "colab": {
          "base_uri": "https://localhost:8080/"
        },
        "id": "UB1vgKo6tcjd",
        "outputId": "6c92a407-414a-4488-f5e6-f596665489a2"
      },
      "execution_count": 8,
      "outputs": [
        {
          "output_type": "stream",
          "name": "stdout",
          "text": [
            "Enter mass of first object (kg): 156\n",
            "Enter mass of second object (kg): 257\n",
            "Enter distance between objects (m): 47\n",
            "Gravitational force: 1.21e-09 N\n"
          ]
        }
      ]
    },
    {
      "cell_type": "code",
      "source": [
        "num = int(input(\"Enter a number: \"))\n",
        "\n",
        "if num % 2 == 0:\n",
        "    print(\"The number is even.\")\n",
        "else:\n",
        "    print(\"The number is odd.\")\n"
      ],
      "metadata": {
        "colab": {
          "base_uri": "https://localhost:8080/"
        },
        "id": "6FubRsn1tkol",
        "outputId": "8551d2be-595f-44db-aa44-d951d87b2d2e"
      },
      "execution_count": 9,
      "outputs": [
        {
          "output_type": "stream",
          "name": "stdout",
          "text": [
            "Enter a number: 5\n",
            "The number is odd.\n"
          ]
        }
      ]
    },
    {
      "cell_type": "code",
      "source": [
        "num = int(input(\"Enter a number: \"))\n",
        "difference = num - 15\n",
        "\n",
        "if num > 15:\n",
        "    print(f\"Two times of difference: {2 * difference}\")\n",
        "else:\n",
        "    print(f\"Four times of difference: {4 * difference}\")\n"
      ],
      "metadata": {
        "colab": {
          "base_uri": "https://localhost:8080/"
        },
        "id": "IJFhOuPmtpG1",
        "outputId": "f22cac79-9d62-4b01-c822-901a053c498c"
      },
      "execution_count": 10,
      "outputs": [
        {
          "output_type": "stream",
          "name": "stdout",
          "text": [
            "Enter a number: 7\n",
            "Four times of difference: -32\n"
          ]
        }
      ]
    },
    {
      "cell_type": "code",
      "source": [
        "a = float(input(\"Enter first number: \"))\n",
        "b = float(input(\"Enter second number: \"))\n",
        "c = float(input(\"Enter third number: \"))\n",
        "\n",
        "largest = max(a, b, c)\n",
        "print(f\"The largest number is: {largest}\")\n"
      ],
      "metadata": {
        "colab": {
          "base_uri": "https://localhost:8080/"
        },
        "id": "V0JuO2QWtwVN",
        "outputId": "45bbc337-1efb-44be-dc23-e6be3fb66f94"
      },
      "execution_count": 11,
      "outputs": [
        {
          "output_type": "stream",
          "name": "stdout",
          "text": [
            "Enter first number: 200\n",
            "Enter second number: 183\n",
            "Enter third number: 481\n",
            "The largest number is: 481.0\n"
          ]
        }
      ]
    },
    {
      "cell_type": "code",
      "source": [
        "a = float(input(\"Enter the first side: \"))\n",
        "b = float(input(\"Enter the second side: \"))\n",
        "c = float(input(\"Enter the third side: \"))\n",
        "\n",
        "if a == b == c:\n",
        "    print(\"The triangle is equilateral.\")\n",
        "elif a == b or b == c or a == c:\n",
        "    print(\"The triangle is isosceles.\")\n",
        "else:\n",
        "    print(\"The triangle is scalene.\")\n"
      ],
      "metadata": {
        "colab": {
          "base_uri": "https://localhost:8080/"
        },
        "id": "MIiiD_nFt4Be",
        "outputId": "b600d030-2af9-4dec-a210-39bcc0cc0d30"
      },
      "execution_count": 12,
      "outputs": [
        {
          "output_type": "stream",
          "name": "stdout",
          "text": [
            "Enter the first side: 5\n",
            "Enter the second side: 6\n",
            "Enter the third side: 7\n",
            "The triangle is scalene.\n"
          ]
        }
      ]
    },
    {
      "cell_type": "code",
      "source": [
        "year = int(input(\"Enter a year: \"))\n",
        "\n",
        "if (year % 4 == 0 and year % 100 != 0) or (year % 400 == 0):\n",
        "    print(\"The year is a leap year.\")\n",
        "else:\n",
        "    print(\"The year is not a leap year.\")\n"
      ],
      "metadata": {
        "colab": {
          "base_uri": "https://localhost:8080/"
        },
        "id": "YjKVNCBOt_Ef",
        "outputId": "092a24aa-a1d3-4166-c086-a9bedd7d3acc"
      },
      "execution_count": 13,
      "outputs": [
        {
          "output_type": "stream",
          "name": "stdout",
          "text": [
            "Enter a year: 1600\n",
            "The year is a leap year.\n"
          ]
        }
      ]
    },
    {
      "cell_type": "code",
      "source": [
        "marks = [float(input(f\"Enter marks for subject {i+1}: \")) for i in range(4)]\n",
        "average = sum(marks) / 4\n",
        "\n",
        "if average >= 75:\n",
        "    grade = 'A'\n",
        "elif average >= 60:\n",
        "    grade = 'B'\n",
        "elif average >= 40:\n",
        "    grade = 'C'\n",
        "else:\n",
        "    grade = 'D'\n",
        "\n",
        "print(f\"Average marks: {average:.2f}\")\n",
        "print(f\"Grade: {grade}\")\n"
      ],
      "metadata": {
        "colab": {
          "base_uri": "https://localhost:8080/"
        },
        "id": "ReQVNO0buFoG",
        "outputId": "69b3ab47-bfed-4932-eaf1-2a7108a4b2d6"
      },
      "execution_count": 14,
      "outputs": [
        {
          "output_type": "stream",
          "name": "stdout",
          "text": [
            "Enter marks for subject 1: 85\n",
            "Enter marks for subject 2: 94\n",
            "Enter marks for subject 3: 78\n",
            "Enter marks for subject 4: 63\n",
            "Average marks: 80.00\n",
            "Grade: A\n"
          ]
        }
      ]
    },
    {
      "cell_type": "code",
      "source": [
        "print(\"Select operation:\")\n",
        "print(\"1. Add\")\n",
        "print(\"2. Subtract\")\n",
        "print(\"3. Multiply\")\n",
        "print(\"4. Divide\")\n",
        "\n",
        "choice = input(\"Enter choice (1/2/3/4): \")\n",
        "\n",
        "num1 = float(input(\"Enter first number: \"))\n",
        "num2 = float(input(\"Enter second number: \"))\n",
        "\n",
        "if choice == '1':\n",
        "    result = num1 + num2\n",
        "elif choice == '2':\n",
        "    result = num1 - num2\n",
        "elif choice == '3':\n",
        "    result = num1 * num2\n",
        "elif choice == '4':\n",
        "    result = num1 / num2\n",
        "else:\n",
        "    result = \"Invalid Input\"\n",
        "\n",
        "print(f\"Result: {result}\")\n"
      ],
      "metadata": {
        "colab": {
          "base_uri": "https://localhost:8080/"
        },
        "id": "oSEmgd0iuPym",
        "outputId": "ac2a2e05-5821-46fd-d94f-ff2dea8f0082"
      },
      "execution_count": 15,
      "outputs": [
        {
          "output_type": "stream",
          "name": "stdout",
          "text": [
            "Select operation:\n",
            "1. Add\n",
            "2. Subtract\n",
            "3. Multiply\n",
            "4. Divide\n",
            "Enter choice (1/2/3/4): 1\n",
            "Enter first number: 12\n",
            "Enter second number: 13\n",
            "Result: 25.0\n"
          ]
        }
      ]
    },
    {
      "cell_type": "code",
      "source": [
        "import math\n",
        "\n",
        "a = float(input(\"Enter coefficient a: \"))\n",
        "b = float(input(\"Enter coefficient b: \"))\n",
        "c = float(input(\"Enter coefficient c: \"))\n",
        "\n",
        "discriminant = (b ** 2) - (4 * a * c)\n",
        "\n",
        "if discriminant > 0:\n",
        "    root1 = (-b + math.sqrt(discriminant)) / (2 * a)\n",
        "    root2 = (-b - math.sqrt(discriminant)) / (2 * a)\n",
        "    print(f\"Roots are real and different. Root1 = {root1}, Root2 = {root2}\")\n",
        "elif discriminant == 0:\n",
        "    root = -b / (2 * a)\n",
        "    print(f\"Root is real and same. Root = {root}\")\n",
        "else:\n",
        "    realPart = -b / (2 * a)\n",
        "    imaginaryPart = math.sqrt(-discriminant) / (2 * a)\n",
        "    print(f\"Roots are complex and different. Root1 = {realPart} + {imaginaryPart}i, Root2 = {realPart} - {imaginaryPart}i\")\n"
      ],
      "metadata": {
        "colab": {
          "base_uri": "https://localhost:8080/"
        },
        "id": "3LC3PGUAuW1-",
        "outputId": "540f34f2-eafa-4087-c51d-b1da6bfefb96"
      },
      "execution_count": 16,
      "outputs": [
        {
          "output_type": "stream",
          "name": "stdout",
          "text": [
            "Enter coefficient a: 7\n",
            "Enter coefficient b: 6\n",
            "Enter coefficient c: 9\n",
            "Roots are complex and different. Root1 = -0.42857142857142855 + 1.0497813183356477i, Root2 = -0.42857142857142855 - 1.0497813183356477i\n"
          ]
        }
      ]
    },
    {
      "cell_type": "code",
      "source": [
        "n = int(input(\"Enter a number: \"))\n",
        "\n",
        "for i in range(1, n+1):\n",
        "    print(i)\n"
      ],
      "metadata": {
        "colab": {
          "base_uri": "https://localhost:8080/"
        },
        "id": "VPOAZpa0ue9u",
        "outputId": "ae95a89b-c51e-4e8a-956c-fdc760334e6e"
      },
      "execution_count": 17,
      "outputs": [
        {
          "output_type": "stream",
          "name": "stdout",
          "text": [
            "Enter a number: 16\n",
            "1\n",
            "2\n",
            "3\n",
            "4\n",
            "5\n",
            "6\n",
            "7\n",
            "8\n",
            "9\n",
            "10\n",
            "11\n",
            "12\n",
            "13\n",
            "14\n",
            "15\n",
            "16\n"
          ]
        }
      ]
    },
    {
      "cell_type": "code",
      "source": [
        "n = int(input(\"Enter a number: \"))\n",
        "\n",
        "sum_n = n * (n + 1) // 2\n",
        "print(f\"Sum of natural numbers up to {n} is: {sum_n}\")\n"
      ],
      "metadata": {
        "colab": {
          "base_uri": "https://localhost:8080/"
        },
        "id": "trlOMiMTukNe",
        "outputId": "238e7c37-64d9-4517-dc1a-cedc6aee2c2d"
      },
      "execution_count": 18,
      "outputs": [
        {
          "output_type": "stream",
          "name": "stdout",
          "text": [
            "Enter a number: 16\n",
            "Sum of natural numbers up to 16 is: 136\n"
          ]
        }
      ]
    },
    {
      "cell_type": "code",
      "source": [
        "num = input(\"Enter a number: \")\n",
        "\n",
        "sum_digits = sum(int(digit) for digit in num)\n",
        "print(f\"Sum of digits: {sum_digits}\")\n"
      ],
      "metadata": {
        "colab": {
          "base_uri": "https://localhost:8080/"
        },
        "id": "vrzYBmIzuxP3",
        "outputId": "672163da-a82c-4ba3-9d8a-b27daea8cdbf"
      },
      "execution_count": 19,
      "outputs": [
        {
          "output_type": "stream",
          "name": "stdout",
          "text": [
            "Enter a number: 256\n",
            "Sum of digits: 13\n"
          ]
        }
      ]
    },
    {
      "cell_type": "code",
      "source": [
        "num = int(input(\"Enter a number: \"))\n",
        "\n",
        "factors = [i for i in range(1, num + 1) if num % i == 0]\n",
        "print(f\"Factors of {num}: {factors}\")\n"
      ],
      "metadata": {
        "colab": {
          "base_uri": "https://localhost:8080/"
        },
        "id": "kZWQ2RSnu3om",
        "outputId": "29546b31-8de8-48c2-908f-6340053c3c2c"
      },
      "execution_count": 20,
      "outputs": [
        {
          "output_type": "stream",
          "name": "stdout",
          "text": [
            "Enter a number: 158\n",
            "Factors of 158: [1, 2, 79, 158]\n"
          ]
        }
      ]
    },
    {
      "cell_type": "code",
      "source": [
        "num = input(\"Enter a number: \")\n",
        "\n",
        "reverse_num = num[::-1]\n",
        "print(f\"Reverse of the number: {reverse_num}\")\n"
      ],
      "metadata": {
        "colab": {
          "base_uri": "https://localhost:8080/"
        },
        "id": "uuhRJLquu9BN",
        "outputId": "cdab6174-d16a-4624-9f3a-c0d9c991793b"
      },
      "execution_count": 21,
      "outputs": [
        {
          "output_type": "stream",
          "name": "stdout",
          "text": [
            "Enter a number: 89\n",
            "Reverse of the number: 98\n"
          ]
        }
      ]
    },
    {
      "cell_type": "code",
      "source": [
        "import math\n",
        "\n",
        "num = int(input(\"Enter a number: \"))\n",
        "factorial = math.factorial(num)\n",
        "\n",
        "print(f\"Factorial of {num} is: {factorial}\")\n"
      ],
      "metadata": {
        "colab": {
          "base_uri": "https://localhost:8080/"
        },
        "id": "gkWB6jMivBUV",
        "outputId": "5dd37b07-a394-4985-e531-354619c8f3ec"
      },
      "execution_count": 22,
      "outputs": [
        {
          "output_type": "stream",
          "name": "stdout",
          "text": [
            "Enter a number: 5\n",
            "Factorial of 5 is: 120\n"
          ]
        }
      ]
    },
    {
      "cell_type": "code",
      "source": [
        "def is_palindrome(num):\n",
        "    num_str = str(num)\n",
        "    return num_str == num_str[::-1]\n",
        "\n",
        "# Example usage\n",
        "number = int(input(\"Enter a number: \"))\n",
        "if is_palindrome(number):\n",
        "    print(f\"{number} is a palindrome.\")\n",
        "else:\n",
        "    print(f\"{number} is not a palindrome.\")\n"
      ],
      "metadata": {
        "colab": {
          "base_uri": "https://localhost:8080/"
        },
        "id": "DjH2yTF2vGLl",
        "outputId": "ac5d1489-b140-4ddd-dbd2-ce19129107ee"
      },
      "execution_count": 23,
      "outputs": [
        {
          "output_type": "stream",
          "name": "stdout",
          "text": [
            "Enter a number: 252\n",
            "252 is a palindrome.\n"
          ]
        }
      ]
    },
    {
      "cell_type": "code",
      "source": [
        "def is_prime(num):\n",
        "    if num <= 1:\n",
        "        return False\n",
        "    if num <= 3:\n",
        "        return True\n",
        "    if num % 2 == 0 or num % 3 == 0:\n",
        "        return False\n",
        "    i = 5\n",
        "    while i * i <= num:\n",
        "        if num % i == 0 or num % (i + 2) == 0:\n",
        "            return False\n",
        "        i += 6\n",
        "    return True\n",
        "\n",
        "# Example usage\n",
        "number = int(input(\"Enter a number: \"))\n",
        "if is_prime(number):\n",
        "    print(f\"{number} is a prime number.\")\n",
        "else:\n",
        "    print(f\"{number} is not a prime number.\")\n"
      ],
      "metadata": {
        "colab": {
          "base_uri": "https://localhost:8080/"
        },
        "id": "1dtw9B5jvZR2",
        "outputId": "ed385f22-4056-4473-bd74-c8c8cfee9c62"
      },
      "execution_count": 24,
      "outputs": [
        {
          "output_type": "stream",
          "name": "stdout",
          "text": [
            "Enter a number: 7\n",
            "7 is a prime number.\n"
          ]
        }
      ]
    },
    {
      "cell_type": "code",
      "source": [
        "def is_armstrong(num):\n",
        "    num_str = str(num)\n",
        "    num_digits = len(num_str)\n",
        "    sum_of_powers = sum(int(digit) ** num_digits for digit in num_str)\n",
        "    return num == sum_of_powers\n",
        "\n",
        "# Example usage\n",
        "number = int(input(\"Enter a number: \"))\n",
        "if is_armstrong(number):\n",
        "    print(f\"{number} is an Armstrong number.\")\n",
        "else:\n",
        "    print(f\"{number} is not an Armstrong number.\")\n"
      ],
      "metadata": {
        "colab": {
          "base_uri": "https://localhost:8080/"
        },
        "id": "80j9QxUmvdiO",
        "outputId": "c6f2c689-b781-4f70-9ebf-4c23fa8eecbe"
      },
      "execution_count": 25,
      "outputs": [
        {
          "output_type": "stream",
          "name": "stdout",
          "text": [
            "Enter a number: 125\n",
            "125 is not an Armstrong number.\n"
          ]
        }
      ]
    },
    {
      "cell_type": "code",
      "source": [
        "def fibonacci(n):\n",
        "    fib_series = [0, 1]\n",
        "    while len(fib_series) < n:\n",
        "        fib_series.append(fib_series[-1] + fib_series[-2])\n",
        "    return fib_series\n",
        "\n",
        "# Example usage\n",
        "n = int(input(\"Enter the number of terms: \"))\n",
        "print(\"Fibonacci series:\")\n",
        "print(fibonacci(n))\n"
      ],
      "metadata": {
        "colab": {
          "base_uri": "https://localhost:8080/"
        },
        "id": "xmQ17FRKvjxf",
        "outputId": "8a9971e5-cb70-40dc-ab52-44c87d773967"
      },
      "execution_count": 26,
      "outputs": [
        {
          "output_type": "stream",
          "name": "stdout",
          "text": [
            "Enter the number of terms: 8\n",
            "Fibonacci series:\n",
            "[0, 1, 1, 2, 3, 5, 8, 13]\n"
          ]
        }
      ]
    },
    {
      "cell_type": "code",
      "source": [
        "def multiplication_table(n):\n",
        "    for i in range(1, 11):\n",
        "        print(f\"{n} x {i} = {n * i}\")\n",
        "\n",
        "# Example usage\n",
        "number = int(input(\"Enter a number to print its multiplication table: \"))\n",
        "multiplication_table(number)\n"
      ],
      "metadata": {
        "colab": {
          "base_uri": "https://localhost:8080/"
        },
        "id": "nsD8krZSvqWG",
        "outputId": "b0664aa7-96cf-4a43-9897-476ba636bbac"
      },
      "execution_count": 27,
      "outputs": [
        {
          "output_type": "stream",
          "name": "stdout",
          "text": [
            "Enter a number to print its multiplication table: 9\n",
            "9 x 1 = 9\n",
            "9 x 2 = 18\n",
            "9 x 3 = 27\n",
            "9 x 4 = 36\n",
            "9 x 5 = 45\n",
            "9 x 6 = 54\n",
            "9 x 7 = 63\n",
            "9 x 8 = 72\n",
            "9 x 9 = 81\n",
            "9 x 10 = 90\n"
          ]
        }
      ]
    },
    {
      "cell_type": "code",
      "source": [
        "user_input = input(\"Enter elements separated by spaces: \")\n",
        "input_list = user_input.split()\n",
        "print(\"The list is:\", input_list)\n"
      ],
      "metadata": {
        "colab": {
          "base_uri": "https://localhost:8080/"
        },
        "id": "JWO4qR3mvyWN",
        "outputId": "4ec05629-93b5-4068-9ac3-8eb61b86825b"
      },
      "execution_count": 28,
      "outputs": [
        {
          "output_type": "stream",
          "name": "stdout",
          "text": [
            "Enter elements separated by spaces: the boy is a good person\n",
            "The list is: ['the', 'boy', 'is', 'a', 'good', 'person']\n"
          ]
        }
      ]
    },
    {
      "cell_type": "code",
      "source": [
        "def find_average(numbers):\n",
        "    return sum(numbers) / len(numbers)\n",
        "\n",
        "# Example usage\n",
        "user_input = input(\"Enter numbers separated by spaces: \")\n",
        "numbers = list(map(float, user_input.split()))\n",
        "average = find_average(numbers)\n",
        "print(\"The average is:\", average)\n"
      ],
      "metadata": {
        "colab": {
          "base_uri": "https://localhost:8080/"
        },
        "id": "mYEvMCAkv6tf",
        "outputId": "011f3125-1953-4a9e-abf9-ca32b6b4d3c3"
      },
      "execution_count": 29,
      "outputs": [
        {
          "output_type": "stream",
          "name": "stdout",
          "text": [
            "Enter numbers separated by spaces: 89 95 96 100 78\n",
            "The average is: 91.6\n"
          ]
        }
      ]
    },
    {
      "cell_type": "code",
      "source": [
        "def find_largest(numbers):\n",
        "    return max(numbers)\n",
        "\n",
        "# Example usage\n",
        "user_input = input(\"Enter numbers separated by spaces: \")\n",
        "numbers = list(map(float, user_input.split()))\n",
        "largest = find_largest(numbers)\n",
        "print(\"The largest number is:\", largest)\n"
      ],
      "metadata": {
        "colab": {
          "base_uri": "https://localhost:8080/"
        },
        "id": "1HtII752wHvu",
        "outputId": "dad2d673-6e9d-4fcc-dc4e-1098d5e323a6"
      },
      "execution_count": 30,
      "outputs": [
        {
          "output_type": "stream",
          "name": "stdout",
          "text": [
            "Enter numbers separated by spaces: 128 96 200 405\n",
            "The largest number is: 405.0\n"
          ]
        }
      ]
    },
    {
      "cell_type": "code",
      "source": [
        "def linear_search(arr, target):\n",
        "    for index, value in enumerate(arr):\n",
        "        if value == target:\n",
        "            return index\n",
        "    return -1\n",
        "\n",
        "# Example usage\n",
        "user_input = input(\"Enter numbers separated by spaces: \")\n",
        "arr = list(map(int, user_input.split()))\n",
        "target = int(input(\"Enter the number to search for: \"))\n",
        "index = linear_search(arr, target)\n",
        "if index != -1:\n",
        "    print(f\"{target} found at index {index}.\")\n",
        "else:\n",
        "    print(f\"{target} not found in the list.\")\n"
      ],
      "metadata": {
        "colab": {
          "base_uri": "https://localhost:8080/"
        },
        "id": "LUB49ESWwQ-F",
        "outputId": "c6d27664-d50d-4cc9-8041-3a2285d70f0d"
      },
      "execution_count": 31,
      "outputs": [
        {
          "output_type": "stream",
          "name": "stdout",
          "text": [
            "Enter numbers separated by spaces: 1 45 7 6 8 10 9 \n",
            "Enter the number to search for: 8\n",
            "8 found at index 4.\n"
          ]
        }
      ]
    },
    {
      "cell_type": "code",
      "source": [
        "print(\"Enter lines of text (type 'END' to finish):\")\n",
        "lines = []\n",
        "while True:\n",
        "    line = input()\n",
        "    if line == 'END':\n",
        "        break\n",
        "    lines.append(line.upper())\n",
        "\n",
        "print(\"\\nCapitalized lines:\")\n",
        "for line in lines:\n",
        "    print(line)\n"
      ],
      "metadata": {
        "colab": {
          "base_uri": "https://localhost:8080/"
        },
        "id": "zb7yEEzYwY99",
        "outputId": "5d39b740-25f7-44cb-8e32-b4347e883896"
      },
      "execution_count": 32,
      "outputs": [
        {
          "output_type": "stream",
          "name": "stdout",
          "text": [
            "Enter lines of text (type 'END' to finish):\n",
            "hello to my world \n",
            "END\n",
            "\n",
            "Capitalized lines:\n",
            "HELLO TO MY WORLD \n"
          ]
        }
      ]
    },
    {
      "cell_type": "code",
      "source": [
        "user_input = input(\"Enter comma-separated numbers: \")\n",
        "numbers = user_input.split(',')\n",
        "numbers_list = list(numbers)\n",
        "numbers_tuple = tuple(numbers)\n",
        "\n",
        "print(\"List:\", numbers_list)\n",
        "print(\"Tuple:\", numbers_tuple)\n"
      ],
      "metadata": {
        "colab": {
          "base_uri": "https://localhost:8080/"
        },
        "id": "n8KYlj1wwkj2",
        "outputId": "70c3880f-a515-4e97-f7ec-b5d151441106"
      },
      "execution_count": 33,
      "outputs": [
        {
          "output_type": "stream",
          "name": "stdout",
          "text": [
            "Enter comma-separated numbers: 24,32,15,18,20,37,21\n",
            "List: ['24', '32', '15', '18', '20', '37', '21']\n",
            "Tuple: ('24', '32', '15', '18', '20', '37', '21')\n"
          ]
        }
      ]
    },
    {
      "cell_type": "code",
      "source": [
        "def compute_net_amount(transactions):\n",
        "    balance = 0\n",
        "    for transaction in transactions:\n",
        "        action, amount = transaction.split()\n",
        "        amount = int(amount)\n",
        "        if action == 'D':\n",
        "            balance += amount\n",
        "        elif action == 'W':\n",
        "            balance -= amount\n",
        "    return balance\n",
        "\n",
        "# Example usage\n",
        "print(\"Enter transactions (type 'END' to finish):\")\n",
        "transactions = []\n",
        "while True:\n",
        "    transaction = input()\n",
        "    if transaction == 'END':\n",
        "        break\n",
        "    transactions.append(transaction)\n",
        "\n",
        "net_amount = compute_net_amount(transactions)\n",
        "print(\"Net amount:\", net_amount)\n"
      ],
      "metadata": {
        "colab": {
          "base_uri": "https://localhost:8080/"
        },
        "id": "stEiCdWkwtIu",
        "outputId": "cb1f9003-603c-4850-9dd1-91a758a15e5f"
      },
      "execution_count": null,
      "outputs": [
        {
          "output_type": "stream",
          "name": "stdout",
          "text": [
            "Enter transactions (type 'END' to finish):\n"
          ]
        }
      ]
    }
  ]
}